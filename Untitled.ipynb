{
 "cells": [
  {
   "cell_type": "code",
   "execution_count": 1,
   "metadata": {},
   "outputs": [
    {
     "ename": "ImportError",
     "evalue": "No module named keras",
     "output_type": "error",
     "traceback": [
      "\u001b[0;31m---------------------------------------------------------------------------\u001b[0m",
      "\u001b[0;31mImportError\u001b[0m                               Traceback (most recent call last)",
      "\u001b[0;32m<ipython-input-1-c74e2bd4ca71>\u001b[0m in \u001b[0;36m<module>\u001b[0;34m()\u001b[0m\n\u001b[0;32m----> 1\u001b[0;31m \u001b[0;32mimport\u001b[0m \u001b[0mkeras\u001b[0m\u001b[0;34m\u001b[0m\u001b[0m\n\u001b[0m",
      "\u001b[0;31mImportError\u001b[0m: No module named keras"
     ]
    }
   ],
   "source": [
    "import keras"
   ]
  },
  {
   "cell_type": "code",
   "execution_count": 2,
   "metadata": {},
   "outputs": [
    {
     "name": "stdout",
     "output_type": "stream",
     "text": [
      "Requirement already satisfied: keras in /Applications/anaconda/lib/python2.7/site-packages (2.0.4)\n",
      "Requirement already satisfied: theano in /Applications/anaconda/lib/python2.7/site-packages (from keras) (0.9.0)\n",
      "Requirement already satisfied: pyyaml in /Applications/anaconda/lib/python2.7/site-packages (from keras) (3.11)\n",
      "Requirement already satisfied: six in /Applications/anaconda/lib/python2.7/site-packages (from keras) (1.10.0)\n",
      "Requirement already satisfied: scipy>=0.14 in /Applications/anaconda/lib/python2.7/site-packages (from theano->keras) (0.18.1)\n",
      "Requirement already satisfied: numpy>=1.9.1 in /Applications/anaconda/lib/python2.7/site-packages (from theano->keras) (1.11.3)\n"
     ]
    }
   ],
   "source": []
  },
  {
   "cell_type": "code",
   "execution_count": null,
   "metadata": {
    "collapsed": true
   },
   "outputs": [],
   "source": []
  }
 ],
 "metadata": {
  "anaconda-cloud": {},
  "kernelspec": {
   "display_name": "Python [opencv]",
   "language": "python",
   "name": "Python [opencv]"
  },
  "language_info": {
   "codemirror_mode": {
    "name": "ipython",
    "version": 2
   },
   "file_extension": ".py",
   "mimetype": "text/x-python",
   "name": "python",
   "nbconvert_exporter": "python",
   "pygments_lexer": "ipython2",
   "version": "2.7.13"
  }
 },
 "nbformat": 4,
 "nbformat_minor": 1
}
